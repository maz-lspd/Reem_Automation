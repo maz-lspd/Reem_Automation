{
 "cells": [
  {
   "cell_type": "markdown",
   "id": "5c1c985f-9696-4512-947f-c81abf6a0c77",
   "metadata": {
    "tags": []
   },
   "source": [
    "1. Import Pandas library (***pd***)\n",
    "2. Read *Personnel_List.xlsx* (***data***), clean data, and create column headers\n",
    "3. Create a list of columns names to check for missing entries (***checked_columns***)\n",
    "4. Create three new dataframes (***errors, EEID_duplicates, EEID_missing***) for three checks"
   ]
  },
  {
   "cell_type": "code",
   "execution_count": null,
   "id": "3cd3c909-5958-4c14-a0e7-a6970f16ea45",
   "metadata": {
    "tags": []
   },
   "outputs": [],
   "source": [
    "import pandas as pd\n",
    "\n",
    "checked_columns = ['Budget Status','Employment_Status', 'Level', 'Role Type', 'Contributor_Type', 'Vertical', 'Finance Start Date']\n",
    "data = pd.read_excel('Personnel_List.xlsx', engine='openpyxl')\n",
    "\n",
    "data = data.iloc[2:]\n",
    "dataHeader = data.iloc[0]\n",
    "data = data.iloc[1:]\n",
    "data.columns = dataHeader\n",
    "\n",
    "errors = data.copy()\n",
    "EEID_missing = data.copy()\n",
    "EEID_duplicates = data.copy()"
   ]
  },
  {
   "cell_type": "markdown",
   "id": "fcc2820f-05e8-47cd-8aa3-1fc7affff93f",
   "metadata": {},
   "source": [
    "1. Obtain a list of all rows without errors in ***checked_columns***\n",
    "2. Remove these rows from main dataset and get all rows with errors\n",
    "3. Print total number of errors and output a new file"
   ]
  },
  {
   "cell_type": "code",
   "execution_count": null,
   "id": "d0bf16fa-8339-4956-b555-0be777a0288d",
   "metadata": {},
   "outputs": [],
   "source": [
    "errors.drop(errors.dropna(subset = checked_columns).index, inplace=True)\n",
    "errors.dropna(how ='all', subset= checked_columns, inplace=True)"
   ]
  },
  {
   "cell_type": "markdown",
   "id": "0364854a-fcbf-4dfa-a918-4b20492a97df",
   "metadata": {
    "tags": []
   },
   "source": [
    "1. Remove all rows with empty EEID\n",
    "2. Look for duplicates and save to ***EEID_duplicates***\n",
    "3. Print total number of duplicates and output a new file"
   ]
  },
  {
   "cell_type": "code",
   "execution_count": null,
   "id": "063f6bec-517b-4d2e-b798-07593e45a27d",
   "metadata": {},
   "outputs": [],
   "source": [
    "EEID_duplicates = EEID_duplicates[EEID_duplicates['EEID'].notna()]\n",
    "EEID_duplicates = EEID_duplicates.dropna(how ='all', subset= checked_columns)\n",
    "EEID_duplicates = EEID_duplicates[EEID_duplicates.duplicated(['EEID'], keep=False)]"
   ]
  },
  {
   "cell_type": "markdown",
   "id": "8c76875b-b63c-4a37-81ff-dbd63a8cb9bd",
   "metadata": {},
   "source": [
    "1. Remove all rows with empty EEID\n",
    "2. Clean up data and count number of missing EEIDs"
   ]
  },
  {
   "cell_type": "code",
   "execution_count": null,
   "id": "3b86c3ee-a4e8-488e-af7a-19baac7ebce1",
   "metadata": {},
   "outputs": [],
   "source": [
    "EEID_missing = EEID_missing[EEID_missing['EEID'].isna()]\n",
    "EEID_missing = EEID_missing[EEID_missing['Last name, First name'].notna()]\n",
    "EEID_missing = EEID_missing.dropna(how ='all', subset= checked_columns)"
   ]
  },
  {
   "cell_type": "markdown",
   "id": "84b865d9-ad36-408c-af34-880b8f31c34e",
   "metadata": {},
   "source": [
    "1. Print a summary of checks\n",
    "2. Output files containing errors"
   ]
  },
  {
   "cell_type": "code",
   "execution_count": null,
   "id": "7e647949-2476-4ee4-a4ac-814973fa9b09",
   "metadata": {},
   "outputs": [],
   "source": [
    "if len(errors.index) > 0:\n",
    "    print(\"Errors: \" + str(len(errors.index)) + \"\\t  Personnel_List_Errors.xlsx has been created\")\n",
    "    errors.to_excel('Personnel_List_Errors.xlsx', sheet_name='Missing Entries', index=False)\n",
    "else: print(\"Row Errors: 0\\t  No file created\")\n",
    "\n",
    "if len(EEID_duplicates.index) > 0:\n",
    "    print(\"Duplicates: \" + str(len(EEID_duplicates.index)) + \"\\t  Personnel_List_Duplicates.xlsx has been created\")\n",
    "    EEID_duplicates.to_excel('Personnel_List_Duplicates.xlsx', sheet_name='EEID Duplicates', index=False)\n",
    "else: print(\"Duplicates: 0\\t  No file created\")\n",
    "\n",
    "if len(EEID_missing.index) > 0:\n",
    "    print(\"No EEID:    \" + str(len(EEID_missing.index)) + \"\\t  Personnel_List_EEID_Missing.xlsx has been created\")\n",
    "    EEID_missing.to_excel('Personnel_List_EEID_Missing.xlsx', sheet_name='EEID Missing', index=False)\n",
    "else: print(\"Duplicates: 0\\t  No file created\")\n",
    "    \n",
    "input(\"ADIL\")"
   ]
  },
  {
   "cell_type": "code",
   "execution_count": null,
   "id": "2ece7002-1de8-460e-bd1b-467916e657e3",
   "metadata": {},
   "outputs": [],
   "source": []
  }
 ],
 "metadata": {
  "kernelspec": {
   "display_name": "Python 3",
   "language": "python",
   "name": "python3"
  },
  "language_info": {
   "codemirror_mode": {
    "name": "ipython",
    "version": 3
   },
   "file_extension": ".py",
   "mimetype": "text/x-python",
   "name": "python",
   "nbconvert_exporter": "python",
   "pygments_lexer": "ipython3",
   "version": "3.8.8"
  }
 },
 "nbformat": 4,
 "nbformat_minor": 5
}
